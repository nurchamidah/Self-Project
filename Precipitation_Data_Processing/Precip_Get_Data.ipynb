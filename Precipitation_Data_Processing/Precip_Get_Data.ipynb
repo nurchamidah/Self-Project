{
  "nbformat": 4,
  "nbformat_minor": 0,
  "metadata": {
    "colab": {
      "provenance": [],
      "mount_file_id": "1jprmVNOi6eG38J7hAKMVGK8J79Ce4qOe",
      "authorship_tag": "ABX9TyOuesGm3D0ZhkdWwWr0HQ0a",
      "include_colab_link": true
    },
    "kernelspec": {
      "name": "python3",
      "display_name": "Python 3"
    },
    "language_info": {
      "name": "python"
    }
  },
  "cells": [
    {
      "cell_type": "markdown",
      "metadata": {
        "id": "view-in-github",
        "colab_type": "text"
      },
      "source": [
        "<a href=\"https://colab.research.google.com/github/nurchamidah/Self-Project/blob/main/Precipitation_Data_Processing/Precip_Get_Data.ipynb\" target=\"_parent\"><img src=\"https://colab.research.google.com/assets/colab-badge.svg\" alt=\"Open In Colab\"/></a>"
      ]
    },
    {
      "cell_type": "markdown",
      "source": [
        "For get an API key:\n",
        "- Get a temporary email from https://temp-mail.org/id\n",
        "- After you get the temporary email, register in https://www.worldweatheronline.com/weather-api/my/\n",
        "- Go to my account and you can get the API key"
      ],
      "metadata": {
        "id": "Epyd0qg2v9HS"
      }
    },
    {
      "cell_type": "code",
      "execution_count": null,
      "metadata": {
        "colab": {
          "base_uri": "https://localhost:8080/"
        },
        "id": "jxKBKsVxi1jk",
        "outputId": "c7229f83-fb1f-4d26-843a-b08889df502a"
      },
      "outputs": [
        {
          "output_type": "stream",
          "name": "stdout",
          "text": [
            "perulangan selesai\n"
          ]
        }
      ],
      "source": [
        "import os\n",
        "import requests\n",
        "import json\n",
        "import pandas as pd\n",
        "import glob\n",
        "\n",
        "# bagian yang perlu diubah\n",
        "frequency = 24\n",
        "tahunMulai = 2013\n",
        "tahunTerakhir = 2023\n",
        "location_list = \"3,117.16667\"\n",
        "api_key = '0e0626abcdd6407792112537240808'\n",
        "\n",
        "#catatan\n",
        "'''bulungan'''\n",
        "latitude = 3\n",
        "longitude = 117.16667\n",
        "\n",
        "# tahun\n",
        "for tahun in range(tahunMulai, tahunTerakhir + 1):\n",
        "    # bulan dari januari (1) sampai desember (12)+1\n",
        "    for bulan in range(1, 13):\n",
        "        start_date = f\"{tahun}-{bulan:02d}-01\"  # tanggal mulai\n",
        "        # 7 bulan pertama (januari-juli)\n",
        "        if bulan <= 7:\n",
        "            # bulan genap\n",
        "            if bulan % 2 == 0:\n",
        "                # bulan februari dan kabisat\n",
        "                if bulan == 2 and tahun % 4 == 0:\n",
        "                    end_date = f\"{tahun}-{bulan:02d}-29\"\n",
        "                # bulan februari tidak kabisat\n",
        "                elif bulan == 2 and tahun % 4 != 0:\n",
        "                    end_date = f\"{tahun}-{bulan:02d}-28\"\n",
        "                # bulan genap selain februari\n",
        "                else:\n",
        "                    end_date = f\"{tahun}-{bulan:02d}-30\"\n",
        "            # selain februari\n",
        "            else:\n",
        "                end_date = f\"{tahun}-{bulan:02d}-31\"\n",
        "        # 5 bulan terakhir (agustus-desember)\n",
        "        else:\n",
        "            # bulan genap\n",
        "            if bulan % 2 == 0:\n",
        "                end_date = f\"{tahun}-{bulan:02d}-31\"\n",
        "            # bulan ganjil\n",
        "            else:\n",
        "                end_date = f\"{tahun}-{bulan:02d}-30\"\n",
        "\n",
        "        # link\n",
        "        url_page = f\"http://api.worldweatheronline.com/premium/v1/past-weather.ashx?key={api_key}&q={location_list}&date={start_date}&enddate={end_date}&tp={frequency}&format=json\"\n",
        "\n",
        "        # request (permintaan)\n",
        "        response = requests.get(url_page)\n",
        "        if response.status_code == 200:\n",
        "            data = response.json()\n",
        "            weather_data = data['data']['weather']\n",
        "            data1 = pd.DataFrame(weather_data)\n",
        "\n",
        "            # ambil isi hourly\n",
        "            data2 = []\n",
        "            for k in range(len(data1)):\n",
        "                data2.append(data1.loc[k, 'hourly'][0])\n",
        "            data2 = pd.DataFrame(data2)\n",
        "\n",
        "            # penggabungan kolom tanggal dengan hourly\n",
        "            data3 = data1[['date']].copy()\n",
        "            data3 = data3.join(data2)\n",
        "\n",
        "            # buat data csv\n",
        "            data3.to_csv(f\"({start_date})_({end_date}).csv\", index=False)\n",
        "        else:\n",
        "            print(f\"Failed to retrieve data for {start_date} to {end_date}\")\n",
        "\n",
        "# petunjuk bila proses perulangan selesai\n",
        "print('perulangan selesai')\n",
        "\n",
        "# penggabungan semua csv\n",
        "df = pd.concat(map(pd.read_csv, glob.glob('*.csv')))\n",
        "\n",
        "# urutkan sesuai tanggal\n",
        "df = df.sort_values(by=['date'])\n",
        "\n",
        "# rubah ke excel\n",
        "df.to_excel('data.xlsx', index=False)\n"
      ]
    }
  ]
}